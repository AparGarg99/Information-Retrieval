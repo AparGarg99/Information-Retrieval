{
 "cells": [
  {
   "cell_type": "code",
   "execution_count": 1,
   "metadata": {},
   "outputs": [
    {
     "name": "stdout",
     "output_type": "stream",
     "text": [
      "enter the number of pages: 3\n",
      "enter the damping factor: 0.85\n",
      "Original array:\n",
      "[[0. 0. 0.]\n",
      " [0. 0. 0.]\n",
      " [0. 0. 0.]]\n",
      "page  0  has a outgoing edge with: \n",
      "any outgoing edge(y/n) :y\n",
      "enter the page no :1\n",
      "any other outgoing edge(y/n) :y\n",
      "enter the page no :2\n",
      "**********\n",
      "page  1  has a outgoing edge with: \n",
      "any outgoing edge(y/n) :y\n",
      "enter the page no :2\n",
      "any other outgoing edge(y/n) :n\n",
      "**********\n",
      "page  2  has a outgoing edge with: \n",
      "any outgoing edge(y/n) :y\n",
      "enter the page no :0\n",
      "any other outgoing edge(y/n) :n\n",
      "**********\n",
      "[[0.  0.  1. ]\n",
      " [0.5 0.  0. ]\n",
      " [0.5 1.  0. ]]\n"
     ]
    }
   ],
   "source": [
    "import numpy as np\n",
    "n=int(input('enter the number of pages: '))\n",
    "d=float(input('enter the damping factor: '))\n",
    "x = np.zeros((n,n))\n",
    "print(\"Original array:\")\n",
    "print(x)\n",
    "for i in range(n):\n",
    "    print('page ',i,' has a outgoing edge with: ')\n",
    "    w=input('any outgoing edge(y/n) :')\n",
    "    if(w=='n'):\n",
    "        x[:,i]=0\n",
    "    c=1\n",
    "    while(w=='y' and c<n):\n",
    "        q=int(input('enter the page no :'))\n",
    "        x[q,i]=1\n",
    "        if((c+1)<n):\n",
    "            w=input('any other outgoing edge(y/n) :')\n",
    "        c=c+1\n",
    "    if(sum(x[:,i]>0)):\n",
    "        x[:,i]=x[:,i]/sum(x[:,i])\n",
    "    print('*'*10)\n",
    "    #print('-'*20)\n",
    "print(x) "
   ]
  },
  {
   "cell_type": "markdown",
   "metadata": {},
   "source": [
    "![WhatsApp Image 2019-10-13 at 8 48 06 PM](https://user-images.githubusercontent.com/54896849/66717945-d9e8d600-edfb-11e9-9fbe-1df013ceef11.jpeg)"
   ]
  },
  {
   "cell_type": "code",
   "execution_count": 85,
   "metadata": {},
   "outputs": [
    {
     "name": "stdout",
     "output_type": "stream",
     "text": [
      "[1.02000389 0.5099987  1.01999741]\n"
     ]
    }
   ],
   "source": [
    "m=(x.dot(np.ones(n)*d))\n",
    "c=0\n",
    "a=[]\n",
    "for i in range(200):\n",
    "    m=x.dot(m)\n",
    "    a.append(m)\n",
    "\n",
    "for i in range(1,len(a)):\n",
    "    if([round(elem,5) for elem in list(a[i])]==[round(elem,5) for elem in list(a[i-1])]):\n",
    "        print(a[i])\n",
    "        k=a[i]\n",
    "        break       "
   ]
  },
  {
   "cell_type": "code",
   "execution_count": 86,
   "metadata": {},
   "outputs": [
    {
     "name": "stdout",
     "output_type": "stream",
     "text": [
      "{0: 1.0200038909912104, 1: 0.5099987030029294, 2: 1.0199974060058588}\n"
     ]
    }
   ],
   "source": [
    "dic={}\n",
    "for i in range(n):\n",
    "    dic[i]=k[i]\n",
    "print(dic)"
   ]
  },
  {
   "cell_type": "code",
   "execution_count": 87,
   "metadata": {},
   "outputs": [
    {
     "data": {
      "text/plain": [
       "[(1, 0.5099987030029294), (2, 1.0199974060058588), (0, 1.0200038909912104)]"
      ]
     },
     "execution_count": 87,
     "metadata": {},
     "output_type": "execute_result"
    }
   ],
   "source": [
    "s=sorted(dic.items(), key=lambda x: x[1])\n",
    "s"
   ]
  },
  {
   "cell_type": "code",
   "execution_count": 88,
   "metadata": {},
   "outputs": [
    {
     "name": "stdout",
     "output_type": "stream",
     "text": [
      "page  1  has PageRank  1\n",
      "page  2  has PageRank  2\n",
      "page  0  has PageRank  3\n"
     ]
    }
   ],
   "source": [
    "# 1-Lowest rank\n",
    "# n-Highest rank\n",
    "for i in range(n):\n",
    "    print(\"page \",s[i][0],\" has PageRank \",i+1)"
   ]
  }
 ],
 "metadata": {
  "kernelspec": {
   "display_name": "Python 3",
   "language": "python",
   "name": "python3"
  },
  "language_info": {
   "codemirror_mode": {
    "name": "ipython",
    "version": 3
   },
   "file_extension": ".py",
   "mimetype": "text/x-python",
   "name": "python",
   "nbconvert_exporter": "python",
   "pygments_lexer": "ipython3",
   "version": "3.7.1"
  }
 },
 "nbformat": 4,
 "nbformat_minor": 2
}
